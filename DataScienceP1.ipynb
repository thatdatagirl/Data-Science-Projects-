{
 "cells": [
  {
   "cell_type": "markdown",
   "metadata": {},
   "source": [
    "## Analyzing borrowers’ risk of defaulting\n",
    "\n",
    "Your project is to prepare a report for a bank’s loan division. You’ll need to find out if a customer’s marital status and number of children has an impact on whether they will default on a loan. The bank already has some data on customers’ credit worthiness.\n",
    "\n",
    "Your report will be considered when building a **credit scoring** of a potential customer. A ** credit scoring ** is used to evaluate the ability of a potential borrower to repay their loan."
   ]
  },
  {
   "cell_type": "markdown",
   "metadata": {},
   "source": [
    "### Step 1. Open the data file and have a look at the general information. "
   ]
  },
  {
   "cell_type": "code",
   "execution_count": 5,
   "metadata": {},
   "outputs": [
    {
     "name": "stdout",
     "output_type": "stream",
     "text": [
      "<class 'pandas.core.frame.DataFrame'>\n",
      "RangeIndex: 21525 entries, 0 to 21524\n",
      "Data columns (total 12 columns):\n",
      "children            21525 non-null int64\n",
      "days_employed       19351 non-null float64\n",
      "dob_years           21525 non-null int64\n",
      "education           21525 non-null object\n",
      "education_id        21525 non-null int64\n",
      "family_status       21525 non-null object\n",
      "family_status_id    21525 non-null int64\n",
      "gender              21525 non-null object\n",
      "income_type         21525 non-null object\n",
      "debt                21525 non-null int64\n",
      "total_income        19351 non-null float64\n",
      "purpose             21525 non-null object\n",
      "dtypes: float64(2), int64(5), object(5)\n",
      "memory usage: 2.0+ MB\n",
      "None\n"
     ]
    }
   ],
   "source": [
    "import pandas as pd\n",
    "bank_loan = pd.read_csv('/datasets/credit_scoring_eng.csv')\n",
    "print(bank_loan.info())"
   ]
  },
  {
   "cell_type": "markdown",
   "metadata": {},
   "source": [
    "### Conclusion"
   ]
  },
  {
   "cell_type": "markdown",
   "metadata": {},
   "source": [
    "To look at the bank_loan information call the info() method to see the columns, the number of entries, and the data types.\n",
    "\n",
    "To see an example of the bank_loan table use the head() method to print the first couple of rows of the table."
   ]
  },
  {
   "cell_type": "markdown",
   "metadata": {},
   "source": [
    "### Step 2. Data preprocessing"
   ]
  },
  {
   "cell_type": "markdown",
   "metadata": {},
   "source": [
    "### Processing missing values"
   ]
  },
  {
   "cell_type": "code",
   "execution_count": 6,
   "metadata": {},
   "outputs": [
    {
     "name": "stdout",
     "output_type": "stream",
     "text": [
      "<class 'pandas.core.frame.DataFrame'>\n",
      "RangeIndex: 21525 entries, 0 to 21524\n",
      "Data columns (total 12 columns):\n",
      "children            21525 non-null int64\n",
      "days_employed       19351 non-null float64\n",
      "dob_years           21525 non-null int64\n",
      "education           21525 non-null object\n",
      "education_id        21525 non-null int64\n",
      "family_status       21525 non-null object\n",
      "family_status_id    21525 non-null int64\n",
      "gender              21525 non-null object\n",
      "income_type         21525 non-null object\n",
      "debt                21525 non-null int64\n",
      "total_income        19351 non-null float64\n",
      "purpose             21525 non-null object\n",
      "dtypes: float64(2), int64(5), object(5)\n",
      "memory usage: 2.0+ MB\n"
     ]
    },
    {
     "data": {
      "text/plain": [
       "children            0\n",
       "days_employed       0\n",
       "dob_years           0\n",
       "education           0\n",
       "education_id        0\n",
       "family_status       0\n",
       "family_status_id    0\n",
       "gender              0\n",
       "income_type         0\n",
       "debt                0\n",
       "total_income        0\n",
       "purpose             0\n",
       "dtype: int64"
      ]
     },
     "execution_count": 6,
     "metadata": {},
     "output_type": "execute_result"
    }
   ],
   "source": [
    "bank_loan.head()\n",
    "\n",
    "bank_loan['days_employed'] = bank_loan['days_employed'].abs()\n",
    "\n",
    "bank_loan.info()\n",
    "\n",
    "bank_loan[bank_loan['days_employed'].isnull()].count()\n",
    "bank_loan[bank_loan['total_income'].isnull()].count()\n",
    "\n",
    "#Replace missing days_employed with days_employed avg\n",
    "days_employed_avg = bank_loan['days_employed'].mean()\n",
    "bank_loan['days_employed'] = bank_loan['days_employed'].fillna(days_employed_avg)\n",
    "bank_loan[bank_loan['days_employed'].isnull()].count()\n",
    "\n",
    "#Replace missing total_income with total_income avg\n",
    "total_income_avg = bank_loan['total_income'].mean()\n",
    "bank_loan['total_income'] = bank_loan['total_income'].fillna(total_income_avg)\n",
    "bank_loan[bank_loan['total_income'].isnull()].count()\n",
    "\n",
    "\n"
   ]
  },
  {
   "cell_type": "markdown",
   "metadata": {},
   "source": [
    "### Conclusion"
   ]
  },
  {
   "cell_type": "markdown",
   "metadata": {},
   "source": [
    "After looking at the bank_loan information using the info() method, it looks as if the days employed and total income columns have missing and abnormal values.\n",
    "\n",
    "In the first couple of rows it is seen that the days employed column contains negative values. There can't be a negative number of days employed. The days employed column needs to be changed to all positive float values using the absolute value function. \n",
    "\n",
    "The missing values for the days employed column most likely comes from user input where the user didn't know when they started their job or how many days they have been working for.\n",
    "\n",
    "The missing values for the total income column is also most likely from user input where the user didn't know how much total income they made or forgot to input the value all together. \n",
    "\n",
    "Using the isnull() method, it was discoverd that:\n",
    "The days employed is missing values in 2174 out of the 21525 rows\n",
    "The total income is missing values in 2174 out of the 21525 rows\n",
    "\n",
    "The missing values of days employed were replaced with the average of all days employed\n",
    "The missing values of total income were replaced with the average of all total income"
   ]
  },
  {
   "cell_type": "markdown",
   "metadata": {},
   "source": [
    "### Data type replacement"
   ]
  },
  {
   "cell_type": "code",
   "execution_count": 7,
   "metadata": {},
   "outputs": [
    {
     "name": "stdout",
     "output_type": "stream",
     "text": [
      "<class 'pandas.core.frame.DataFrame'>\n",
      "RangeIndex: 21525 entries, 0 to 21524\n",
      "Data columns (total 12 columns):\n",
      "children            21525 non-null int64\n",
      "days_employed       21525 non-null int64\n",
      "dob_years           21525 non-null int64\n",
      "education           21525 non-null object\n",
      "education_id        21525 non-null int64\n",
      "family_status       21525 non-null object\n",
      "family_status_id    21525 non-null int64\n",
      "gender              21525 non-null object\n",
      "income_type         21525 non-null object\n",
      "debt                21525 non-null int64\n",
      "total_income        21525 non-null int64\n",
      "purpose             21525 non-null object\n",
      "dtypes: int64(7), object(5)\n",
      "memory usage: 2.0+ MB\n"
     ]
    }
   ],
   "source": [
    "bank_loan['days_employed'] = bank_loan['days_employed'].astype('int')\n",
    "\n",
    "\n",
    "bank_loan['total_income'] = bank_loan['total_income'].astype('int')\n",
    "bank_loan.info(10)\n"
   ]
  },
  {
   "cell_type": "markdown",
   "metadata": {},
   "source": [
    "### Conclusion"
   ]
  },
  {
   "cell_type": "markdown",
   "metadata": {},
   "source": [
    "To change the data types of days_employed and total_income, use the astype() method to select the data type int. I used this method because the to_numeric() method is used to convert the values of a column to a floating point number. "
   ]
  },
  {
   "cell_type": "markdown",
   "metadata": {},
   "source": [
    "### Processing duplicates"
   ]
  },
  {
   "cell_type": "code",
   "execution_count": 8,
   "metadata": {},
   "outputs": [
    {
     "data": {
      "text/plain": [
       "0    14149\n",
       "1     4865\n",
       "2     2131\n",
       "3      330\n",
       "4       41\n",
       "5        9\n",
       "Name: children, dtype: int64"
      ]
     },
     "execution_count": 8,
     "metadata": {},
     "output_type": "execute_result"
    }
   ],
   "source": [
    "bank_loan['education'].value_counts()\n",
    "bank_loan['education'] = bank_loan['education'].str.lower()\n",
    "bank_loan['education'].value_counts()          \n",
    "\n",
    "bank_loan['children'].value_counts()\n",
    "\n",
    "bank_loan['children'] = bank_loan['children'].replace(-1, 1)\n",
    "bank_loan['children'] = bank_loan['children'].replace(20, 2)\n",
    "\n",
    "bank_loan['children'].value_counts()\n"
   ]
  },
  {
   "cell_type": "markdown",
   "metadata": {},
   "source": [
    "### Conclusion"
   ]
  },
  {
   "cell_type": "markdown",
   "metadata": {},
   "source": [
    "There are duplicate values in the education column. The main reason for the duplicates in the education column is case sensitivity. Many of the education types were the same but some types had uppercase letters while others had lowercase letters.\n",
    "\n",
    "Since the education column is a string, to delete duplicates I used the str.lower() method to get rid of all of the  duplicates in education types.\n",
    "\n",
    "To confirm that the duplicates have been changed call the value_counts() method for the education column to look at the counts of unique values for each education type. \n",
    "\n",
    "There are also incorrect values in the children column. The main reason for the duplicate values is that the information was input incorrectly by the user. There are 47 values that equal -1 and 76 values that equal 20. The negative 1s need to be changed to positive and the values that equal 20 mostly like accidently put an extra 0, so these values are changed to 2. \n",
    "\n",
    "Use the replace() method to change the values to the correct number of children. Negative 1 was replaced with 1, and 20 was replaced with 2.\n"
   ]
  },
  {
   "cell_type": "markdown",
   "metadata": {},
   "source": [
    "### Categorizing Data"
   ]
  },
  {
   "cell_type": "code",
   "execution_count": 9,
   "metadata": {},
   "outputs": [
    {
     "data": {
      "text/plain": [
       "Medium-level income    12835\n",
       "Low-level income        7370\n",
       "High-level income       1320\n",
       "Name: income_group, dtype: int64"
      ]
     },
     "execution_count": 9,
     "metadata": {},
     "output_type": "execute_result"
    }
   ],
   "source": [
    "# Method to group loan type by purpose\n",
    "def loan_group_purpose(row):\n",
    "    purpose = row['purpose']\n",
    "    \n",
    "    if 'house' in purpose:\n",
    "        return 'real estate loan purpose'\n",
    "    if 'housing' in purpose:\n",
    "        return 'real estate loan purpose'\n",
    "    if 'wedding' in purpose:\n",
    "        return 'wedding loan purpose'\n",
    "    if 'real estate' in purpose:\n",
    "        return 'real estate loan purpose'\n",
    "    if 'property' in purpose:\n",
    "        return 'real estate loan purpose'\n",
    "    if 'car' in purpose:\n",
    "        return 'car loan purpose'\n",
    "    if 'university' in purpose:\n",
    "        return 'school loan purpose'\n",
    "    if 'education' in purpose:\n",
    "        return 'school loan purpose'\n",
    "    \n",
    "    return 'purpose unidentified'\n",
    "\n",
    "\n",
    "bank_loan['purpose_group'] = bank_loan.apply(loan_group_purpose, axis=1)\n",
    "bank_loan['purpose_group'].value_counts()\n",
    "\n",
    "\n",
    "# Method to group loan type by education level\n",
    "def loan_group_education(row):\n",
    "    education = row['education']\n",
    "    \n",
    "    if 'secondary education' in education:\n",
    "        return 'K-12 education'\n",
    "    if 'bachelor\\'s degree' in education:\n",
    "        return 'College education'\n",
    "    if 'some college' in education:\n",
    "        return 'College education'\n",
    "    if 'primary education' in education:\n",
    "        return 'K-12 education'\n",
    "    if 'graduate degree' in education:\n",
    "        return 'Graduate education'\n",
    "    \n",
    "    return 'education unidentified'\n",
    "\n",
    "bank_loan['education_group'] = bank_loan.apply(loan_group_education, axis=1)\n",
    "bank_loan['education_group'].value_counts()\n",
    "\n",
    "# Value count to see the male to female ratio\n",
    "bank_loan['gender'].value_counts()\n",
    "\n",
    "# Method to group loan type by age level\n",
    "bank_loan['dob_years'].value_counts()\n",
    "def loan_group_age(row):\n",
    "    age = row['dob_years']\n",
    "    \n",
    "    if age == 0:\n",
    "        return 'No age specified'\n",
    "    if age <= 17:\n",
    "        return 'Adolescent'\n",
    "    if age <=65:\n",
    "        return 'Adult'\n",
    "    if age > 66:\n",
    "        return 'Elderly'\n",
    "    \n",
    "    return 'age unidentified'\n",
    "\n",
    "\n",
    "bank_loan['age_group'] = bank_loan.apply(loan_group_age, axis=1)\n",
    "bank_loan['age_group'].value_counts()\n",
    "\n",
    "\n",
    "# Method to group loan type by income level\n",
    "bank_loan['total_income'].value_counts()\n",
    "def loan_group_income(row):\n",
    "    income = row['total_income']\n",
    "    \n",
    "    if income == 0:\n",
    "        return 'No income specified'\n",
    "    if income <= 20000:\n",
    "        return 'Low-level income'\n",
    "    elif income <= 50000:\n",
    "        return 'Medium-level income'\n",
    "    elif income > 50000:\n",
    "        return 'High-level income'\n",
    "    \n",
    "    return 'income unidentified'\n",
    "\n",
    "bank_loan['income_group'] = bank_loan.apply(loan_group_income, axis=1)\n",
    "bank_loan['income_group'].value_counts()\n",
    "\n",
    "\n"
   ]
  },
  {
   "cell_type": "markdown",
   "metadata": {},
   "source": [
    "### Conclusion"
   ]
  },
  {
   "cell_type": "markdown",
   "metadata": {},
   "source": [
    "The purpose column was uncategorized, due to the fact that many of the purposes were the same however because of the wording of the rows they were not grouped together. \n",
    "\n",
    "To fix this issue it was necessary to create a method that groups the purpose column into seperate individual purposes of the same type. For example, any row that had the word house or housing in it went into the house list. At the end of organizing the purpose column there was a list for housing, weddings, real estate, property, cars, schooling, and purpose unknown. \n",
    "\n",
    "By organizing the purpose data into their own specific list it is easier to use the purpose column as each purpose can be identified and counted.\n",
    "\n",
    "To categorize the education column I seperated the data into three categories: K-12, College education, and Graduate education to get a better understanding of the various education levels. A vast majority of the sample has a K-12 education level. \n",
    "\n",
    "The gender column is adequately categorized between M for male and F for female. The is one value with the gender value of 'XNA'.\n",
    "\n",
    "The age column has alot of different values, it will be easier to look at the data after categorizing it into subgroups. Nearly all of the people in this sample are in the adult age group and between the ages of 18-65.\n",
    "\n",
    "The income column also has a lot of different values, to make the data easier to work with it was put into subgroups. If a person makes less than 20,000 they have a low-level. If a person makes between 20,000-50,000 they have a medium-level income. If a person makes more than 50,000 they have a high-level income."
   ]
  },
  {
   "cell_type": "markdown",
   "metadata": {},
   "source": [
    "### Step 3. Answer these questions"
   ]
  },
  {
   "cell_type": "markdown",
   "metadata": {},
   "source": [
    "- Is there a relation between having kids and repaying a loan on time?"
   ]
  },
  {
   "cell_type": "code",
   "execution_count": 10,
   "metadata": {},
   "outputs": [
    {
     "data": {
      "text/html": [
       "<div>\n",
       "<style scoped>\n",
       "    .dataframe tbody tr th:only-of-type {\n",
       "        vertical-align: middle;\n",
       "    }\n",
       "\n",
       "    .dataframe tbody tr th {\n",
       "        vertical-align: top;\n",
       "    }\n",
       "\n",
       "    .dataframe thead th {\n",
       "        text-align: right;\n",
       "    }\n",
       "</style>\n",
       "<table border=\"1\" class=\"dataframe\">\n",
       "  <thead>\n",
       "    <tr style=\"text-align: right;\">\n",
       "      <th>debt</th>\n",
       "      <th>0</th>\n",
       "      <th>1</th>\n",
       "    </tr>\n",
       "    <tr>\n",
       "      <th>children</th>\n",
       "      <th></th>\n",
       "      <th></th>\n",
       "    </tr>\n",
       "  </thead>\n",
       "  <tbody>\n",
       "    <tr>\n",
       "      <td>0</td>\n",
       "      <td>13086.0</td>\n",
       "      <td>1063.0</td>\n",
       "    </tr>\n",
       "    <tr>\n",
       "      <td>1</td>\n",
       "      <td>4420.0</td>\n",
       "      <td>445.0</td>\n",
       "    </tr>\n",
       "    <tr>\n",
       "      <td>2</td>\n",
       "      <td>1929.0</td>\n",
       "      <td>202.0</td>\n",
       "    </tr>\n",
       "    <tr>\n",
       "      <td>3</td>\n",
       "      <td>303.0</td>\n",
       "      <td>27.0</td>\n",
       "    </tr>\n",
       "    <tr>\n",
       "      <td>4</td>\n",
       "      <td>37.0</td>\n",
       "      <td>4.0</td>\n",
       "    </tr>\n",
       "    <tr>\n",
       "      <td>5</td>\n",
       "      <td>9.0</td>\n",
       "      <td>0.0</td>\n",
       "    </tr>\n",
       "  </tbody>\n",
       "</table>\n",
       "</div>"
      ],
      "text/plain": [
       "debt            0       1\n",
       "children                 \n",
       "0         13086.0  1063.0\n",
       "1          4420.0   445.0\n",
       "2          1929.0   202.0\n",
       "3           303.0    27.0\n",
       "4            37.0     4.0\n",
       "5             9.0     0.0"
      ]
     },
     "execution_count": 10,
     "metadata": {},
     "output_type": "execute_result"
    }
   ],
   "source": [
    "bank_loan.pivot_table(index = 'children', columns ='debt', values = 'days_employed', aggfunc = 'count').fillna(0)\n"
   ]
  },
  {
   "cell_type": "markdown",
   "metadata": {},
   "source": [
    "### Conclusion"
   ]
  },
  {
   "cell_type": "markdown",
   "metadata": {},
   "source": [
    "In conclusion, majority of the sample has zero children and have occured no debt. This shows a correlation to the amount of children and repaying a loan on time. People with no children may have extra money to spend on repaying a loan because they do not have to pay the expensive cost of parenthood. "
   ]
  },
  {
   "cell_type": "markdown",
   "metadata": {},
   "source": [
    "- Is there a relation between marital status and repaying a loan on time?"
   ]
  },
  {
   "cell_type": "code",
   "execution_count": 12,
   "metadata": {
    "scrolled": true
   },
   "outputs": [
    {
     "data": {
      "text/html": [
       "<div>\n",
       "<style scoped>\n",
       "    .dataframe tbody tr th:only-of-type {\n",
       "        vertical-align: middle;\n",
       "    }\n",
       "\n",
       "    .dataframe tbody tr th {\n",
       "        vertical-align: top;\n",
       "    }\n",
       "\n",
       "    .dataframe thead th {\n",
       "        text-align: right;\n",
       "    }\n",
       "</style>\n",
       "<table border=\"1\" class=\"dataframe\">\n",
       "  <thead>\n",
       "    <tr style=\"text-align: right;\">\n",
       "      <th>debt</th>\n",
       "      <th>0</th>\n",
       "      <th>1</th>\n",
       "    </tr>\n",
       "    <tr>\n",
       "      <th>family_status</th>\n",
       "      <th></th>\n",
       "      <th></th>\n",
       "    </tr>\n",
       "  </thead>\n",
       "  <tbody>\n",
       "    <tr>\n",
       "      <td>civil partnership</td>\n",
       "      <td>3789</td>\n",
       "      <td>388</td>\n",
       "    </tr>\n",
       "    <tr>\n",
       "      <td>divorced</td>\n",
       "      <td>1110</td>\n",
       "      <td>85</td>\n",
       "    </tr>\n",
       "    <tr>\n",
       "      <td>married</td>\n",
       "      <td>11449</td>\n",
       "      <td>931</td>\n",
       "    </tr>\n",
       "    <tr>\n",
       "      <td>unmarried</td>\n",
       "      <td>2539</td>\n",
       "      <td>274</td>\n",
       "    </tr>\n",
       "    <tr>\n",
       "      <td>widow / widower</td>\n",
       "      <td>897</td>\n",
       "      <td>63</td>\n",
       "    </tr>\n",
       "  </tbody>\n",
       "</table>\n",
       "</div>"
      ],
      "text/plain": [
       "debt                   0    1\n",
       "family_status                \n",
       "civil partnership   3789  388\n",
       "divorced            1110   85\n",
       "married            11449  931\n",
       "unmarried           2539  274\n",
       "widow / widower      897   63"
      ]
     },
     "execution_count": 12,
     "metadata": {},
     "output_type": "execute_result"
    }
   ],
   "source": [
    "bank_loan.pivot_table(index = 'family_status', columns ='debt', values = 'days_employed', aggfunc = 'count').fillna(0)   "
   ]
  },
  {
   "cell_type": "markdown",
   "metadata": {},
   "source": [
    "### Conclusion"
   ]
  },
  {
   "cell_type": "markdown",
   "metadata": {},
   "source": [
    "Looking at the results it seems as if people who are married or in a civil partnership are more likely to have the highest relationships where no debt occurred. This could possibly be due to the fact that there are two incomes in the relationship. Therefore, more money is available to pay back loans on time."
   ]
  },
  {
   "cell_type": "markdown",
   "metadata": {},
   "source": [
    "- Is there a relation between income level and repaying a loan on time?"
   ]
  },
  {
   "cell_type": "code",
   "execution_count": 13,
   "metadata": {},
   "outputs": [
    {
     "data": {
      "text/html": [
       "<div>\n",
       "<style scoped>\n",
       "    .dataframe tbody tr th:only-of-type {\n",
       "        vertical-align: middle;\n",
       "    }\n",
       "\n",
       "    .dataframe tbody tr th {\n",
       "        vertical-align: top;\n",
       "    }\n",
       "\n",
       "    .dataframe thead th {\n",
       "        text-align: right;\n",
       "    }\n",
       "</style>\n",
       "<table border=\"1\" class=\"dataframe\">\n",
       "  <thead>\n",
       "    <tr style=\"text-align: right;\">\n",
       "      <th>debt</th>\n",
       "      <th>0</th>\n",
       "      <th>1</th>\n",
       "    </tr>\n",
       "    <tr>\n",
       "      <th>income_group</th>\n",
       "      <th></th>\n",
       "      <th></th>\n",
       "    </tr>\n",
       "  </thead>\n",
       "  <tbody>\n",
       "    <tr>\n",
       "      <td>High-level income</td>\n",
       "      <td>1228</td>\n",
       "      <td>92</td>\n",
       "    </tr>\n",
       "    <tr>\n",
       "      <td>Low-level income</td>\n",
       "      <td>6762</td>\n",
       "      <td>608</td>\n",
       "    </tr>\n",
       "    <tr>\n",
       "      <td>Medium-level income</td>\n",
       "      <td>11794</td>\n",
       "      <td>1041</td>\n",
       "    </tr>\n",
       "  </tbody>\n",
       "</table>\n",
       "</div>"
      ],
      "text/plain": [
       "debt                     0     1\n",
       "income_group                    \n",
       "High-level income     1228    92\n",
       "Low-level income      6762   608\n",
       "Medium-level income  11794  1041"
      ]
     },
     "execution_count": 13,
     "metadata": {},
     "output_type": "execute_result"
    }
   ],
   "source": [
    "bank_loan.pivot_table(index = 'income_group', columns ='debt', values = 'days_employed', aggfunc = 'count').fillna(0)"
   ]
  },
  {
   "cell_type": "markdown",
   "metadata": {},
   "source": [
    "### Conclusion"
   ]
  },
  {
   "cell_type": "markdown",
   "metadata": {},
   "source": [
    "People who have a medium-level income are more likely to have no debt. This conclusion makes sense because if they have a medium-level income and are living slightly at or below their means they have excess money. This excess money can go to pay back loans on time. People who have a low-level income are more likely to have debt. This is due to the fact that they may not have excess money to pay back a loan on time if they need to purchase other essential items with their paycheck. "
   ]
  },
  {
   "cell_type": "markdown",
   "metadata": {},
   "source": [
    "- How do different loan purposes affect on-time repayment of the loan?"
   ]
  },
  {
   "cell_type": "code",
   "execution_count": 14,
   "metadata": {},
   "outputs": [
    {
     "data": {
      "text/html": [
       "<div>\n",
       "<style scoped>\n",
       "    .dataframe tbody tr th:only-of-type {\n",
       "        vertical-align: middle;\n",
       "    }\n",
       "\n",
       "    .dataframe tbody tr th {\n",
       "        vertical-align: top;\n",
       "    }\n",
       "\n",
       "    .dataframe thead th {\n",
       "        text-align: right;\n",
       "    }\n",
       "</style>\n",
       "<table border=\"1\" class=\"dataframe\">\n",
       "  <thead>\n",
       "    <tr style=\"text-align: right;\">\n",
       "      <th>debt</th>\n",
       "      <th>0</th>\n",
       "      <th>1</th>\n",
       "    </tr>\n",
       "    <tr>\n",
       "      <th>purpose_group</th>\n",
       "      <th></th>\n",
       "      <th></th>\n",
       "    </tr>\n",
       "  </thead>\n",
       "  <tbody>\n",
       "    <tr>\n",
       "      <td>car loan purpose</td>\n",
       "      <td>3912</td>\n",
       "      <td>403</td>\n",
       "    </tr>\n",
       "    <tr>\n",
       "      <td>purpose unidentified</td>\n",
       "      <td>373</td>\n",
       "      <td>39</td>\n",
       "    </tr>\n",
       "    <tr>\n",
       "      <td>real estate loan purpose</td>\n",
       "      <td>10058</td>\n",
       "      <td>782</td>\n",
       "    </tr>\n",
       "    <tr>\n",
       "      <td>school loan purpose</td>\n",
       "      <td>3279</td>\n",
       "      <td>331</td>\n",
       "    </tr>\n",
       "    <tr>\n",
       "      <td>wedding loan purpose</td>\n",
       "      <td>2162</td>\n",
       "      <td>186</td>\n",
       "    </tr>\n",
       "  </tbody>\n",
       "</table>\n",
       "</div>"
      ],
      "text/plain": [
       "debt                          0    1\n",
       "purpose_group                       \n",
       "car loan purpose           3912  403\n",
       "purpose unidentified        373   39\n",
       "real estate loan purpose  10058  782\n",
       "school loan purpose        3279  331\n",
       "wedding loan purpose       2162  186"
      ]
     },
     "execution_count": 14,
     "metadata": {},
     "output_type": "execute_result"
    }
   ],
   "source": [
    "bank_loan.pivot_table(index = 'purpose_group', columns ='debt', values = 'days_employed', aggfunc = 'count').fillna(0)"
   ]
  },
  {
   "cell_type": "markdown",
   "metadata": {},
   "source": [
    "### Conclusion"
   ]
  },
  {
   "cell_type": "markdown",
   "metadata": {},
   "source": [
    "The highest number of people getting a loan is for a real estate purpposes. This includes any purpose that is related to housing, real estate, and property. Due to the fact that there is a large number of people who needed a loan for real estate there is also a large number of people who have debt in this category. The second highest number of people with debt belong to the group that received a loan to help purchase a car."
   ]
  },
  {
   "cell_type": "markdown",
   "metadata": {},
   "source": [
    "### Step 4. General conclusion"
   ]
  },
  {
   "cell_type": "markdown",
   "metadata": {},
   "source": [
    "Based on the data, there are many factors that contribute to people paying back a loan on time. For example, it looks as if people in a relationship with a significant other are less likely to default on a loan and owe debt. The main reason I believe that people in relationships are able to pay back a loan on time is because they are in a two income household with more disposable income. This also explains why people with a medium-level income also have no debt are more likely to repay debt on time as well. Another deciding factor is people with no children because according to the data they are less likely to have debt as well. This could be due to the fact that there is extra income available that is not spent on child care to pay loans back on time. In order to determine who will be a viable candidate the different factors should be compared together to get a better overall picture of the debt. My analysis of the data concludes that the most viable candidate to repay a loan on time would be a married person with no kids and a medium-level income. "
   ]
  },
  {
   "cell_type": "markdown",
   "metadata": {},
   "source": [
    "### Project Readiness Checklist\n",
    "\n",
    "Put 'x' in the completed points. Then press Shift + Enter."
   ]
  },
  {
   "cell_type": "markdown",
   "metadata": {},
   "source": [
    "- [x]  file open;\n",
    "- [x]  file examined;\n",
    "- [x]  missing values defined;\n",
    "- [x]  missing values are filled;\n",
    "- [x]  an explanation of which missing value types were detected;\n",
    "- [x]  explanation for the possible causes of missing values;\n",
    "- [x]  an explanation of how the blanks are filled;\n",
    "- [x]  replaced the real data type with an integer;\n",
    "- [x]  an explanation of which method is used to change the data type and why;\n",
    "- [x]  duplicates deleted;\n",
    "- [x]  an explanation of which method is used to find and remove duplicates;\n",
    "- [x]  description of the possible reasons for the appearance of duplicates in the data;\n",
    "- [x]  data is categorized;\n",
    "- [x]  an explanation of the principle of data categorization;\n",
    "- [x]  an answer to the question \"Is there a relation between having kids and repaying a loan on time?\";\n",
    "- [x]  an answer to the question \" Is there a relation between marital status and repaying a loan on time?\";\n",
    "- [x]   an answer to the question \" Is there a relation between income level and repaying a loan on time?\";\n",
    "- [x]  an answer to the question \" How do different loan purposes affect on-time repayment of the loan?\"\n",
    "- [x]  conclusions are present on each stage;\n",
    "- [x]  a general conclusion is made."
   ]
  },
  {
   "cell_type": "code",
   "execution_count": null,
   "metadata": {},
   "outputs": [],
   "source": []
  }
 ],
 "metadata": {
  "kernelspec": {
   "display_name": "Python 3",
   "language": "python",
   "name": "python3"
  },
  "language_info": {
   "codemirror_mode": {
    "name": "ipython",
    "version": 3
   },
   "file_extension": ".py",
   "mimetype": "text/x-python",
   "name": "python",
   "nbconvert_exporter": "python",
   "pygments_lexer": "ipython3",
   "version": "3.7.6"
  }
 },
 "nbformat": 4,
 "nbformat_minor": 2
}
